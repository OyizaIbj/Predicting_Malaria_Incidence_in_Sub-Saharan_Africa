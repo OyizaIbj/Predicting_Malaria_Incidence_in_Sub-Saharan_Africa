{
 "cells": [
  {
   "cell_type": "markdown",
   "id": "2093fabf-d200-407a-8c1e-43c9d6ab4ec8",
   "metadata": {},
   "source": [
    "## **Data Preprocessing**"
   ]
  },
  {
   "cell_type": "code",
   "execution_count": 1,
   "id": "01d299bc-5ba4-4f4b-bc8a-7d07714b0ecf",
   "metadata": {},
   "outputs": [],
   "source": [
    "import pandas as pd\n",
    "import numpy as np"
   ]
  },
  {
   "cell_type": "code",
   "execution_count": 2,
   "id": "ecc6d816-adaa-4741-9e48-f6ea42105bf5",
   "metadata": {},
   "outputs": [],
   "source": [
    "# Load data\n",
    "df = pd.read_csv('Malaria_Project_Data.csv')"
   ]
  },
  {
   "cell_type": "code",
   "execution_count": 3,
   "id": "ec71a6a2-4797-46fd-83b5-efb2db08c63b",
   "metadata": {},
   "outputs": [
    {
     "name": "stdout",
     "output_type": "stream",
     "text": [
      "Missing Values:\n"
     ]
    },
    {
     "data": {
      "text/plain": [
       "Country                           0\n",
       "Latitude                          0\n",
       "Longitude                         0\n",
       "Year                              0\n",
       "Month                             0\n",
       "Population                        0\n",
       "Malaria_cases                     0\n",
       "Malaria_incidence                 0\n",
       "Malaria_deaths                    0\n",
       "Vector_species                    0\n",
       "Insecticide_resistance_level      0\n",
       "Drug_resistance_reported          0\n",
       "Intervention_history            829\n",
       "Outbreak_flag                     0\n",
       "Avg_temperature                   0\n",
       "Total_rainfall                    0\n",
       "Rainfall_1month_lag               0\n",
       "Humidity                          0\n",
       "Vegetation_index                  0\n",
       "Altitude                          0\n",
       "Poverty_rate                      0\n",
       "Literacy_rate                     0\n",
       "Urban_rural                       0\n",
       "Sanitation_access                 0\n",
       "Bed_net_coverage                  0\n",
       "Healthcare_access                 0\n",
       "dtype: int64"
      ]
     },
     "execution_count": 3,
     "metadata": {},
     "output_type": "execute_result"
    }
   ],
   "source": [
    "# Confirm that there are no missing values\n",
    "print(\"Missing Values:\")\n",
    "df.isnull().sum()"
   ]
  },
  {
   "cell_type": "code",
   "execution_count": 4,
   "id": "90b37bd2-3454-4091-ac93-3e6bbec674c1",
   "metadata": {},
   "outputs": [],
   "source": [
    "# Fill missing values in 'Intervention_history' with 'None'\n",
    "df['Intervention_history'] = df['Intervention_history'].fillna('None')"
   ]
  },
  {
   "cell_type": "code",
   "execution_count": 5,
   "id": "223cceee-6b05-4daf-81d2-81eed340d877",
   "metadata": {},
   "outputs": [],
   "source": [
    "# Handle skewed distribution\n",
    "df['Malaria_incidence_log'] = np.log1p(df['Malaria_incidence'])"
   ]
  },
  {
   "cell_type": "markdown",
   "id": "91c08875-ae77-423c-871f-608285d76905",
   "metadata": {},
   "source": [
    "---\n",
    "\n",
    "I applied log1p transformation (np.log1p(x)) to reduce skewness because log1p is better since it handles zeros without issues.\n",
    "\n",
    "---"
   ]
  },
  {
   "cell_type": "code",
   "execution_count": 6,
   "id": "7d36934e-ca0e-43dd-96d4-2a5515b6ed12",
   "metadata": {},
   "outputs": [],
   "source": [
    "# Drop one of two similar correlated features (Total Rainfall and Rainfall_1month_lag)\n",
    "if 'Rainfall_1month_lag' in df.columns:\n",
    "    df = df.drop(columns=['Rainfall_1month_lag'])"
   ]
  },
  {
   "cell_type": "markdown",
   "id": "69ecd881-b56b-4cae-9e03-b37b89711cfc",
   "metadata": {},
   "source": [
    "## **Feature Engineering**"
   ]
  },
  {
   "cell_type": "code",
   "execution_count": 7,
   "id": "4cd66336-c1e4-4f43-8fd2-bb99cfc8ab88",
   "metadata": {},
   "outputs": [],
   "source": [
    "df['Decade'] = (df['Year'] // 10) * 10\n",
    "\n",
    "df['Temp_Humidity_Index'] = df['Avg_temperature'] * df['Humidity']\n",
    "\n",
    "df['Rainfall_diff'] = df['Total_rainfall'] - df['Total_rainfall'].shift(1)\n",
    "df['Rainfall_diff'] = df['Rainfall_diff'].fillna(0)  # because first value after shift will be NaN"
   ]
  },
  {
   "cell_type": "markdown",
   "id": "6a68aa6e-3818-4939-b79f-bab5d13226da",
   "metadata": {},
   "source": [
    "---\n",
    "\n",
    "- Year was grouped into **Decade** like 1990, 2000, 2010, etc.\n",
    "\n",
    "- **Temp_Humidity_Index** was engineered to find the Temperature-Humidity interaction since Mosquito lifecycles depend on both temperature and humidity together.\n",
    "\n",
    "- **Rainfall_diff** was also engineered to capture sudden changes in rainfall, which could drive mosquito outbreaks.\n",
    "\n",
    "---"
   ]
  },
  {
   "cell_type": "code",
   "execution_count": 8,
   "id": "64d2811f-fdc4-4e44-8181-0e5e3e97a45e",
   "metadata": {},
   "outputs": [],
   "source": [
    "# One-hot encode Month\n",
    "month_ohe = pd.get_dummies(df['Month'], prefix='Month')\n",
    "df = pd.concat([df, month_ohe], axis=1)"
   ]
  },
  {
   "cell_type": "markdown",
   "id": "f7b28faa-15c5-42c3-b992-65e36f3ee054",
   "metadata": {},
   "source": [
    "---\n",
    "\n",
    "**Month** column was one-hot encoded because, for the time series forecasting part of this project, seasonality is critical.\n",
    "\n",
    "Malaria outbreaks are often seasonal (for example, rainy seasons → more mosquitoes → more cases).\n",
    "\n",
    "Therefore, keeping Month as a simple number (1–12) would imply an order that may mislead some models (In reality, 1 (January) is closer to 12 (December) than 6 (June), but this isn't true linearly).\n",
    "\n",
    "So, **One-hot encoding Month will let models freely learn seasonal patterns without assuming incorrect numerical distances between months.**\n",
    "\n",
    "---"
   ]
  },
  {
   "cell_type": "code",
   "execution_count": 9,
   "id": "49bbe8f7-5a4d-452d-be30-2474c28dfef2",
   "metadata": {},
   "outputs": [],
   "source": [
    "# Drop Month, since original column is now encoded\n",
    "df = df.drop(columns=['Month'])"
   ]
  },
  {
   "cell_type": "code",
   "execution_count": 10,
   "id": "137378db-6e56-4364-a7ed-8fafde4821aa",
   "metadata": {},
   "outputs": [],
   "source": [
    "# Reset index\n",
    "df = df.reset_index(drop=True)"
   ]
  },
  {
   "cell_type": "code",
   "execution_count": 11,
   "id": "90f257c1-1388-4b38-aa9d-bd7bd0e8ee8c",
   "metadata": {},
   "outputs": [
    {
     "data": {
      "text/html": [
       "<div>\n",
       "<style scoped>\n",
       "    .dataframe tbody tr th:only-of-type {\n",
       "        vertical-align: middle;\n",
       "    }\n",
       "\n",
       "    .dataframe tbody tr th {\n",
       "        vertical-align: top;\n",
       "    }\n",
       "\n",
       "    .dataframe thead th {\n",
       "        text-align: right;\n",
       "    }\n",
       "</style>\n",
       "<table border=\"1\" class=\"dataframe\">\n",
       "  <thead>\n",
       "    <tr style=\"text-align: right;\">\n",
       "      <th></th>\n",
       "      <th>Country</th>\n",
       "      <th>Latitude</th>\n",
       "      <th>Longitude</th>\n",
       "      <th>Year</th>\n",
       "      <th>Population</th>\n",
       "      <th>Malaria_cases</th>\n",
       "      <th>Malaria_incidence</th>\n",
       "      <th>Malaria_deaths</th>\n",
       "      <th>Vector_species</th>\n",
       "      <th>Insecticide_resistance_level</th>\n",
       "      <th>...</th>\n",
       "      <th>Month_3</th>\n",
       "      <th>Month_4</th>\n",
       "      <th>Month_5</th>\n",
       "      <th>Month_6</th>\n",
       "      <th>Month_7</th>\n",
       "      <th>Month_8</th>\n",
       "      <th>Month_9</th>\n",
       "      <th>Month_10</th>\n",
       "      <th>Month_11</th>\n",
       "      <th>Month_12</th>\n",
       "    </tr>\n",
       "  </thead>\n",
       "  <tbody>\n",
       "    <tr>\n",
       "      <th>0</th>\n",
       "      <td>Nigeria</td>\n",
       "      <td>2.47</td>\n",
       "      <td>44.29</td>\n",
       "      <td>1990</td>\n",
       "      <td>143923543</td>\n",
       "      <td>330873</td>\n",
       "      <td>584.61</td>\n",
       "      <td>15019</td>\n",
       "      <td>An. arabiensis</td>\n",
       "      <td>Moderate</td>\n",
       "      <td>...</td>\n",
       "      <td>False</td>\n",
       "      <td>False</td>\n",
       "      <td>False</td>\n",
       "      <td>False</td>\n",
       "      <td>False</td>\n",
       "      <td>False</td>\n",
       "      <td>False</td>\n",
       "      <td>False</td>\n",
       "      <td>False</td>\n",
       "      <td>False</td>\n",
       "    </tr>\n",
       "    <tr>\n",
       "      <th>1</th>\n",
       "      <td>Nigeria</td>\n",
       "      <td>2.47</td>\n",
       "      <td>44.29</td>\n",
       "      <td>1990</td>\n",
       "      <td>97549065</td>\n",
       "      <td>245357</td>\n",
       "      <td>37.45</td>\n",
       "      <td>9857</td>\n",
       "      <td>An. gambiae</td>\n",
       "      <td>Moderate</td>\n",
       "      <td>...</td>\n",
       "      <td>False</td>\n",
       "      <td>False</td>\n",
       "      <td>False</td>\n",
       "      <td>False</td>\n",
       "      <td>False</td>\n",
       "      <td>False</td>\n",
       "      <td>False</td>\n",
       "      <td>False</td>\n",
       "      <td>False</td>\n",
       "      <td>False</td>\n",
       "    </tr>\n",
       "    <tr>\n",
       "      <th>2</th>\n",
       "      <td>Nigeria</td>\n",
       "      <td>2.47</td>\n",
       "      <td>44.29</td>\n",
       "      <td>1990</td>\n",
       "      <td>194477233</td>\n",
       "      <td>261763</td>\n",
       "      <td>41.45</td>\n",
       "      <td>5472</td>\n",
       "      <td>An. funestus</td>\n",
       "      <td>Moderate</td>\n",
       "      <td>...</td>\n",
       "      <td>True</td>\n",
       "      <td>False</td>\n",
       "      <td>False</td>\n",
       "      <td>False</td>\n",
       "      <td>False</td>\n",
       "      <td>False</td>\n",
       "      <td>False</td>\n",
       "      <td>False</td>\n",
       "      <td>False</td>\n",
       "      <td>False</td>\n",
       "    </tr>\n",
       "    <tr>\n",
       "      <th>3</th>\n",
       "      <td>Nigeria</td>\n",
       "      <td>2.47</td>\n",
       "      <td>44.29</td>\n",
       "      <td>1990</td>\n",
       "      <td>79631839</td>\n",
       "      <td>993608</td>\n",
       "      <td>470.89</td>\n",
       "      <td>37775</td>\n",
       "      <td>An. gambiae</td>\n",
       "      <td>Low</td>\n",
       "      <td>...</td>\n",
       "      <td>False</td>\n",
       "      <td>True</td>\n",
       "      <td>False</td>\n",
       "      <td>False</td>\n",
       "      <td>False</td>\n",
       "      <td>False</td>\n",
       "      <td>False</td>\n",
       "      <td>False</td>\n",
       "      <td>False</td>\n",
       "      <td>False</td>\n",
       "    </tr>\n",
       "    <tr>\n",
       "      <th>4</th>\n",
       "      <td>Nigeria</td>\n",
       "      <td>2.47</td>\n",
       "      <td>44.29</td>\n",
       "      <td>1990</td>\n",
       "      <td>10125408</td>\n",
       "      <td>45100</td>\n",
       "      <td>21.47</td>\n",
       "      <td>1916</td>\n",
       "      <td>An. arabiensis</td>\n",
       "      <td>High</td>\n",
       "      <td>...</td>\n",
       "      <td>False</td>\n",
       "      <td>False</td>\n",
       "      <td>True</td>\n",
       "      <td>False</td>\n",
       "      <td>False</td>\n",
       "      <td>False</td>\n",
       "      <td>False</td>\n",
       "      <td>False</td>\n",
       "      <td>False</td>\n",
       "      <td>False</td>\n",
       "    </tr>\n",
       "  </tbody>\n",
       "</table>\n",
       "<p>5 rows × 40 columns</p>\n",
       "</div>"
      ],
      "text/plain": [
       "   Country  Latitude  Longitude  Year  Population  Malaria_cases  \\\n",
       "0  Nigeria      2.47      44.29  1990   143923543         330873   \n",
       "1  Nigeria      2.47      44.29  1990    97549065         245357   \n",
       "2  Nigeria      2.47      44.29  1990   194477233         261763   \n",
       "3  Nigeria      2.47      44.29  1990    79631839         993608   \n",
       "4  Nigeria      2.47      44.29  1990    10125408          45100   \n",
       "\n",
       "   Malaria_incidence  Malaria_deaths  Vector_species  \\\n",
       "0             584.61           15019  An. arabiensis   \n",
       "1              37.45            9857     An. gambiae   \n",
       "2              41.45            5472    An. funestus   \n",
       "3             470.89           37775     An. gambiae   \n",
       "4              21.47            1916  An. arabiensis   \n",
       "\n",
       "  Insecticide_resistance_level  ... Month_3 Month_4  Month_5  Month_6  \\\n",
       "0                     Moderate  ...   False   False    False    False   \n",
       "1                     Moderate  ...   False   False    False    False   \n",
       "2                     Moderate  ...    True   False    False    False   \n",
       "3                          Low  ...   False    True    False    False   \n",
       "4                         High  ...   False   False     True    False   \n",
       "\n",
       "   Month_7  Month_8  Month_9  Month_10  Month_11  Month_12  \n",
       "0    False    False    False     False     False     False  \n",
       "1    False    False    False     False     False     False  \n",
       "2    False    False    False     False     False     False  \n",
       "3    False    False    False     False     False     False  \n",
       "4    False    False    False     False     False     False  \n",
       "\n",
       "[5 rows x 40 columns]"
      ]
     },
     "execution_count": 11,
     "metadata": {},
     "output_type": "execute_result"
    }
   ],
   "source": [
    "# Quick check\n",
    "df.head()"
   ]
  },
  {
   "cell_type": "code",
   "execution_count": 12,
   "id": "f57cfdca-6917-42c7-99f7-0031d45e1984",
   "metadata": {},
   "outputs": [],
   "source": [
    "df.to_csv('Preprocessed_Malaria_Data.csv', index=False)"
   ]
  }
 ],
 "metadata": {
  "kernelspec": {
   "display_name": "Python 3 (ipykernel)",
   "language": "python",
   "name": "python3"
  },
  "language_info": {
   "codemirror_mode": {
    "name": "ipython",
    "version": 3
   },
   "file_extension": ".py",
   "mimetype": "text/x-python",
   "name": "python",
   "nbconvert_exporter": "python",
   "pygments_lexer": "ipython3",
   "version": "3.12.3"
  }
 },
 "nbformat": 4,
 "nbformat_minor": 5
}
