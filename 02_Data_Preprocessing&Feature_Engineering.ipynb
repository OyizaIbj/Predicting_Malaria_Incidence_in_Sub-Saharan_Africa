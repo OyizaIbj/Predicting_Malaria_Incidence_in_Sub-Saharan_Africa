{
 "cells": [
  {
   "cell_type": "markdown",
   "id": "2093fabf-d200-407a-8c1e-43c9d6ab4ec8",
   "metadata": {},
   "source": [
    "## **Data Preprocessing**"
   ]
  },
  {
   "cell_type": "code",
   "execution_count": 1,
   "id": "01d299bc-5ba4-4f4b-bc8a-7d07714b0ecf",
   "metadata": {},
   "outputs": [],
   "source": [
    "import pandas as pd\n",
    "import numpy as np\n",
    "import pandas as pd\n",
    "from sklearn.preprocessing import OneHotEncoder, LabelEncoder, OrdinalEncoder"
   ]
  },
  {
   "cell_type": "code",
   "execution_count": 2,
   "id": "ecc6d816-adaa-4741-9e48-f6ea42105bf5",
   "metadata": {},
   "outputs": [],
   "source": [
    "# Load data\n",
    "df = pd.read_csv('Malaria_Project_Data.csv')"
   ]
  },
  {
   "cell_type": "code",
   "execution_count": 3,
   "id": "ec71a6a2-4797-46fd-83b5-efb2db08c63b",
   "metadata": {},
   "outputs": [
    {
     "name": "stdout",
     "output_type": "stream",
     "text": [
      "Missing Values:\n"
     ]
    },
    {
     "data": {
      "text/plain": [
       "Country                           0\n",
       "Latitude                          0\n",
       "Longitude                         0\n",
       "Year                              0\n",
       "Month                             0\n",
       "Population                        0\n",
       "Malaria_cases                     0\n",
       "Malaria_incidence                 0\n",
       "Malaria_deaths                    0\n",
       "Vector_species                    0\n",
       "Insecticide_resistance_level      0\n",
       "Drug_resistance_reported          0\n",
       "Intervention_history            829\n",
       "Outbreak_flag                     0\n",
       "Avg_temperature                   0\n",
       "Total_rainfall                    0\n",
       "Rainfall_1month_lag               0\n",
       "Humidity                          0\n",
       "Vegetation_index                  0\n",
       "Altitude                          0\n",
       "Poverty_rate                      0\n",
       "Literacy_rate                     0\n",
       "Urban_rural                       0\n",
       "Sanitation_access                 0\n",
       "Bed_net_coverage                  0\n",
       "Healthcare_access                 0\n",
       "dtype: int64"
      ]
     },
     "execution_count": 3,
     "metadata": {},
     "output_type": "execute_result"
    }
   ],
   "source": [
    "# Confirm that there are no missing values\n",
    "print(\"Missing Values:\")\n",
    "df.isnull().sum()"
   ]
  },
  {
   "cell_type": "code",
   "execution_count": 4,
   "id": "819a8526-901a-4266-8205-9b13f3919650",
   "metadata": {},
   "outputs": [
    {
     "name": "stdout",
     "output_type": "stream",
     "text": [
      "Column: Malaria_incidence, Outliers: 452\n"
     ]
    }
   ],
   "source": [
    "# Check dataset for outliers\n",
    "col = 'Malaria_incidence'\n",
    "Q1 = df[col].quantile(0.25)\n",
    "Q3 = df[col].quantile(0.75)\n",
    "IQR = Q3 - Q1\n",
    "lower_bound = Q1 - 1.5 * IQR\n",
    "upper_bound = Q3 + 1.5 * IQR\n",
    "outliers = ((df[col] < lower_bound) | (df[col] > upper_bound)).sum()\n",
    "print(f\"Column: {col}, Outliers: {outliers}\")"
   ]
  },
  {
   "cell_type": "code",
   "execution_count": 5,
   "id": "8cc3f1a2-a86d-4948-abdf-e0d175069237",
   "metadata": {},
   "outputs": [],
   "source": [
    "# Remove outliers from 'Malaria_incidence'\n",
    "df = df[(df[col] >= lower_bound) & (df[col] <= upper_bound)]"
   ]
  },
  {
   "cell_type": "code",
   "execution_count": 6,
   "id": "90b37bd2-3454-4091-ac93-3e6bbec674c1",
   "metadata": {},
   "outputs": [],
   "source": [
    "# Fill missing values in 'Intervention_history' with 'None'\n",
    "df['Intervention_history'] = df['Intervention_history'].fillna('None')"
   ]
  },
  {
   "cell_type": "code",
   "execution_count": 7,
   "id": "223cceee-6b05-4daf-81d2-81eed340d877",
   "metadata": {},
   "outputs": [],
   "source": [
    "# Handle skewed distribution\n",
    "df['Malaria_incidence_log'] = np.log1p(df['Malaria_incidence'])"
   ]
  },
  {
   "cell_type": "markdown",
   "id": "91c08875-ae77-423c-871f-608285d76905",
   "metadata": {},
   "source": [
    "---\n",
    "\n",
    "I applied log1p transformation (np.log1p(x)) to reduce skewness because log1p is better since it handles zeros without issues.\n",
    "\n",
    "---"
   ]
  },
  {
   "cell_type": "code",
   "execution_count": 8,
   "id": "7d36934e-ca0e-43dd-96d4-2a5515b6ed12",
   "metadata": {},
   "outputs": [],
   "source": [
    "# Drop one of two similar correlated features (Total Rainfall and Rainfall_1month_lag)\n",
    "if 'Rainfall_1month_lag' in df.columns:\n",
    "    df = df.drop(columns=['Rainfall_1month_lag'])"
   ]
  },
  {
   "cell_type": "markdown",
   "id": "69ecd881-b56b-4cae-9e03-b37b89711cfc",
   "metadata": {},
   "source": [
    "## **Feature Engineering**"
   ]
  },
  {
   "cell_type": "code",
   "execution_count": 9,
   "id": "4cd66336-c1e4-4f43-8fd2-bb99cfc8ab88",
   "metadata": {},
   "outputs": [],
   "source": [
    "df['Decade'] = (df['Year'] // 10) * 10\n",
    "\n",
    "df['Temp_Humidity_Index'] = df['Avg_temperature'] * df['Humidity']\n",
    "\n",
    "df['Rainfall_diff'] = df['Total_rainfall'] - df['Total_rainfall'].shift(1)\n",
    "df['Rainfall_diff'] = df['Rainfall_diff'].fillna(0)  # because first value after shift will be NaN"
   ]
  },
  {
   "cell_type": "markdown",
   "id": "6a68aa6e-3818-4939-b79f-bab5d13226da",
   "metadata": {},
   "source": [
    "---\n",
    "\n",
    "- Year was grouped into **Decade** like 1990, 2000, 2010, etc.\n",
    "\n",
    "- **Temp_Humidity_Index** was engineered to find the Temperature-Humidity interaction since Mosquito lifecycles depend on both temperature and humidity together.\n",
    "\n",
    "- **Rainfall_diff** was also engineered to capture sudden changes in rainfall, which could drive mosquito outbreaks.\n",
    "\n",
    "---"
   ]
  },
  {
   "cell_type": "code",
   "execution_count": 10,
   "id": "17678705-c611-4e85-a435-8ebf73af3fff",
   "metadata": {},
   "outputs": [],
   "source": [
    "# Create datetime column for sorting and lagging\n",
    "df['Month'] = df['Month'].astype(int)\n",
    "df['Date'] = pd.to_datetime(df['Year'].astype(str) + '-' + df['Month'].astype(str) + '-01')\n",
    "df.sort_values(by=['Country', 'Date'], inplace=True)"
   ]
  },
  {
   "cell_type": "code",
   "execution_count": 11,
   "id": "19d21230-fbb8-47c8-9bd1-e8362f3af9ee",
   "metadata": {},
   "outputs": [],
   "source": [
    "# Create lagged features\n",
    "features_to_lag = ['Total_rainfall', 'Avg_temperature', 'Humidity', 'Temp_Humidity_Index']\n",
    "lag_months = [1, 2]\n",
    "\n",
    "for feature in features_to_lag:\n",
    "    for lag in lag_months:\n",
    "        df[f'{feature}_lag{lag}'] = df.groupby('Country')[feature].shift(lag)"
   ]
  },
  {
   "cell_type": "markdown",
   "id": "b7e2a5ed-6b45-4ead-8832-2fbaeb240b8b",
   "metadata": {},
   "source": [
    "---\n",
    "\n",
    "**Mosquito breeding cycles** and **malaria parasite development** take time, so:\n",
    "\n",
    "- A rainfall spike today would probably cause increased cases 1–2 months later, not immediately.\n",
    "\n",
    "- Temperature and humidity also influence mosquito lifespan and biting rate with delay.\n",
    "\n",
    "These influenced the need to create lagged features.\n",
    "\n",
    "---"
   ]
  },
  {
   "cell_type": "code",
   "execution_count": 12,
   "id": "da96c611-7b41-4aef-babe-faf080df3a23",
   "metadata": {},
   "outputs": [],
   "source": [
    "# Drop rows with NaNs from lagging\n",
    "df.dropna(subset=[f'{f}_lag{l}' for f in features_to_lag for l in lag_months], inplace=True)"
   ]
  },
  {
   "cell_type": "code",
   "execution_count": 13,
   "id": "64d2811f-fdc4-4e44-8181-0e5e3e97a45e",
   "metadata": {},
   "outputs": [],
   "source": [
    "# One-hot encode Month\n",
    "month_ohe = pd.get_dummies(df['Month'], prefix='Month')\n",
    "df = pd.concat([df, month_ohe], axis=1)"
   ]
  },
  {
   "cell_type": "markdown",
   "id": "f7b28faa-15c5-42c3-b992-65e36f3ee054",
   "metadata": {},
   "source": [
    "---\n",
    "\n",
    "**Month** column was one-hot encoded because, for the time series forecasting part of this project, seasonality is critical.\n",
    "\n",
    "Malaria outbreaks are often seasonal (for example, rainy seasons → more mosquitoes → more cases).\n",
    "\n",
    "Therefore, keeping Month as a simple number (1–12) would imply an order that may mislead some models (In reality, 1 (January) is closer to 12 (December) than 6 (June), but this isn't true linearly).\n",
    "\n",
    "So, **One-hot encoding Month will let models freely learn seasonal patterns without assuming incorrect numerical distances between months.**\n",
    "\n",
    "---"
   ]
  },
  {
   "cell_type": "code",
   "execution_count": 14,
   "id": "49bbe8f7-5a4d-452d-be30-2474c28dfef2",
   "metadata": {},
   "outputs": [],
   "source": [
    "# Drop Month, since original column is now encoded\n",
    "df = df.drop(columns=['Month'])"
   ]
  },
  {
   "cell_type": "code",
   "execution_count": 15,
   "id": "5dd6f6ab-47bf-426b-8feb-fa3b0ed37d0c",
   "metadata": {},
   "outputs": [],
   "source": [
    "# Ordinal encoding for Insecticide_resistance_level\n",
    "ordinal_map = {'Low': 0, 'Moderate': 1, 'High': 2}\n",
    "df['Insecticide_resistance_level_encoded'] = df['Insecticide_resistance_level'].map(ordinal_map)\n",
    "\n",
    "# Label encoding for Drug_resistance_reported\n",
    "df['Drug_resistance_reported_encoded'] = df['Drug_resistance_reported'].map({'No': 0, 'Yes': 1})\n",
    "\n",
    "# One-hot encoding for Vector_species\n",
    "df = pd.get_dummies(df, columns=['Vector_species'], prefix='Vector')\n",
    "\n",
    "# One-hot encoding for Intervention_history\n",
    "df = pd.get_dummies(df, columns=['Intervention_history'], prefix='Intervene')"
   ]
  },
  {
   "cell_type": "code",
   "execution_count": 16,
   "id": "a0550e70-d794-459b-9b0f-049bc2450569",
   "metadata": {},
   "outputs": [],
   "source": [
    "# Drop original categorical columns\n",
    "df = df.drop(columns=['Insecticide_resistance_level', 'Drug_resistance_reported'])"
   ]
  },
  {
   "cell_type": "code",
   "execution_count": 17,
   "id": "137378db-6e56-4364-a7ed-8fafde4821aa",
   "metadata": {},
   "outputs": [],
   "source": [
    "# Reset index\n",
    "df = df.reset_index(drop=True)"
   ]
  },
  {
   "cell_type": "code",
   "execution_count": 18,
   "id": "90f257c1-1388-4b38-aa9d-bd7bd0e8ee8c",
   "metadata": {},
   "outputs": [
    {
     "data": {
      "text/html": [
       "<div>\n",
       "<style scoped>\n",
       "    .dataframe tbody tr th:only-of-type {\n",
       "        vertical-align: middle;\n",
       "    }\n",
       "\n",
       "    .dataframe tbody tr th {\n",
       "        vertical-align: top;\n",
       "    }\n",
       "\n",
       "    .dataframe thead th {\n",
       "        text-align: right;\n",
       "    }\n",
       "</style>\n",
       "<table border=\"1\" class=\"dataframe\">\n",
       "  <thead>\n",
       "    <tr style=\"text-align: right;\">\n",
       "      <th></th>\n",
       "      <th>Country</th>\n",
       "      <th>Latitude</th>\n",
       "      <th>Longitude</th>\n",
       "      <th>Year</th>\n",
       "      <th>Population</th>\n",
       "      <th>Malaria_cases</th>\n",
       "      <th>Malaria_incidence</th>\n",
       "      <th>Malaria_deaths</th>\n",
       "      <th>Outbreak_flag</th>\n",
       "      <th>Avg_temperature</th>\n",
       "      <th>...</th>\n",
       "      <th>Insecticide_resistance_level_encoded</th>\n",
       "      <th>Drug_resistance_reported_encoded</th>\n",
       "      <th>Vector_An. arabiensis</th>\n",
       "      <th>Vector_An. funestus</th>\n",
       "      <th>Vector_An. gambiae</th>\n",
       "      <th>Intervene_Health education</th>\n",
       "      <th>Intervene_Larval control</th>\n",
       "      <th>Intervene_Net distribution</th>\n",
       "      <th>Intervene_None</th>\n",
       "      <th>Intervene_Spraying</th>\n",
       "    </tr>\n",
       "  </thead>\n",
       "  <tbody>\n",
       "    <tr>\n",
       "      <th>0</th>\n",
       "      <td>Burkina Faso</td>\n",
       "      <td>5.94</td>\n",
       "      <td>40.86</td>\n",
       "      <td>1990</td>\n",
       "      <td>92649622</td>\n",
       "      <td>741601</td>\n",
       "      <td>81.37</td>\n",
       "      <td>19017</td>\n",
       "      <td>1</td>\n",
       "      <td>26.4</td>\n",
       "      <td>...</td>\n",
       "      <td>2</td>\n",
       "      <td>0</td>\n",
       "      <td>True</td>\n",
       "      <td>False</td>\n",
       "      <td>False</td>\n",
       "      <td>False</td>\n",
       "      <td>True</td>\n",
       "      <td>False</td>\n",
       "      <td>False</td>\n",
       "      <td>False</td>\n",
       "    </tr>\n",
       "    <tr>\n",
       "      <th>1</th>\n",
       "      <td>Burkina Faso</td>\n",
       "      <td>5.94</td>\n",
       "      <td>40.86</td>\n",
       "      <td>1990</td>\n",
       "      <td>199953233</td>\n",
       "      <td>472963</td>\n",
       "      <td>240.32</td>\n",
       "      <td>6466</td>\n",
       "      <td>0</td>\n",
       "      <td>32.1</td>\n",
       "      <td>...</td>\n",
       "      <td>2</td>\n",
       "      <td>0</td>\n",
       "      <td>False</td>\n",
       "      <td>True</td>\n",
       "      <td>False</td>\n",
       "      <td>True</td>\n",
       "      <td>False</td>\n",
       "      <td>False</td>\n",
       "      <td>False</td>\n",
       "      <td>False</td>\n",
       "    </tr>\n",
       "    <tr>\n",
       "      <th>2</th>\n",
       "      <td>Burkina Faso</td>\n",
       "      <td>5.94</td>\n",
       "      <td>40.86</td>\n",
       "      <td>1990</td>\n",
       "      <td>112752093</td>\n",
       "      <td>29872</td>\n",
       "      <td>6.01</td>\n",
       "      <td>1009</td>\n",
       "      <td>0</td>\n",
       "      <td>33.6</td>\n",
       "      <td>...</td>\n",
       "      <td>1</td>\n",
       "      <td>0</td>\n",
       "      <td>False</td>\n",
       "      <td>False</td>\n",
       "      <td>True</td>\n",
       "      <td>False</td>\n",
       "      <td>False</td>\n",
       "      <td>True</td>\n",
       "      <td>False</td>\n",
       "      <td>False</td>\n",
       "    </tr>\n",
       "    <tr>\n",
       "      <th>3</th>\n",
       "      <td>Burkina Faso</td>\n",
       "      <td>5.94</td>\n",
       "      <td>40.86</td>\n",
       "      <td>1990</td>\n",
       "      <td>54664948</td>\n",
       "      <td>90316</td>\n",
       "      <td>10.35</td>\n",
       "      <td>3811</td>\n",
       "      <td>0</td>\n",
       "      <td>23.5</td>\n",
       "      <td>...</td>\n",
       "      <td>0</td>\n",
       "      <td>0</td>\n",
       "      <td>True</td>\n",
       "      <td>False</td>\n",
       "      <td>False</td>\n",
       "      <td>True</td>\n",
       "      <td>False</td>\n",
       "      <td>False</td>\n",
       "      <td>False</td>\n",
       "      <td>False</td>\n",
       "    </tr>\n",
       "    <tr>\n",
       "      <th>4</th>\n",
       "      <td>Burkina Faso</td>\n",
       "      <td>5.94</td>\n",
       "      <td>40.86</td>\n",
       "      <td>1990</td>\n",
       "      <td>104799026</td>\n",
       "      <td>249847</td>\n",
       "      <td>33.30</td>\n",
       "      <td>7898</td>\n",
       "      <td>0</td>\n",
       "      <td>27.0</td>\n",
       "      <td>...</td>\n",
       "      <td>1</td>\n",
       "      <td>0</td>\n",
       "      <td>True</td>\n",
       "      <td>False</td>\n",
       "      <td>False</td>\n",
       "      <td>False</td>\n",
       "      <td>False</td>\n",
       "      <td>False</td>\n",
       "      <td>True</td>\n",
       "      <td>False</td>\n",
       "    </tr>\n",
       "  </tbody>\n",
       "</table>\n",
       "<p>5 rows × 55 columns</p>\n",
       "</div>"
      ],
      "text/plain": [
       "        Country  Latitude  Longitude  Year  Population  Malaria_cases  \\\n",
       "0  Burkina Faso      5.94      40.86  1990    92649622         741601   \n",
       "1  Burkina Faso      5.94      40.86  1990   199953233         472963   \n",
       "2  Burkina Faso      5.94      40.86  1990   112752093          29872   \n",
       "3  Burkina Faso      5.94      40.86  1990    54664948          90316   \n",
       "4  Burkina Faso      5.94      40.86  1990   104799026         249847   \n",
       "\n",
       "   Malaria_incidence  Malaria_deaths  Outbreak_flag  Avg_temperature  ...  \\\n",
       "0              81.37           19017              1             26.4  ...   \n",
       "1             240.32            6466              0             32.1  ...   \n",
       "2               6.01            1009              0             33.6  ...   \n",
       "3              10.35            3811              0             23.5  ...   \n",
       "4              33.30            7898              0             27.0  ...   \n",
       "\n",
       "   Insecticide_resistance_level_encoded  Drug_resistance_reported_encoded  \\\n",
       "0                                     2                                 0   \n",
       "1                                     2                                 0   \n",
       "2                                     1                                 0   \n",
       "3                                     0                                 0   \n",
       "4                                     1                                 0   \n",
       "\n",
       "   Vector_An. arabiensis  Vector_An. funestus  Vector_An. gambiae  \\\n",
       "0                   True                False               False   \n",
       "1                  False                 True               False   \n",
       "2                  False                False                True   \n",
       "3                   True                False               False   \n",
       "4                   True                False               False   \n",
       "\n",
       "   Intervene_Health education  Intervene_Larval control  \\\n",
       "0                       False                      True   \n",
       "1                        True                     False   \n",
       "2                       False                     False   \n",
       "3                        True                     False   \n",
       "4                       False                     False   \n",
       "\n",
       "   Intervene_Net distribution  Intervene_None  Intervene_Spraying  \n",
       "0                       False           False               False  \n",
       "1                       False           False               False  \n",
       "2                        True           False               False  \n",
       "3                       False           False               False  \n",
       "4                       False            True               False  \n",
       "\n",
       "[5 rows x 55 columns]"
      ]
     },
     "execution_count": 18,
     "metadata": {},
     "output_type": "execute_result"
    }
   ],
   "source": [
    "# Quick check\n",
    "df.head()"
   ]
  },
  {
   "cell_type": "code",
   "execution_count": 19,
   "id": "f57cfdca-6917-42c7-99f7-0031d45e1984",
   "metadata": {},
   "outputs": [],
   "source": [
    "df.to_csv('Preprocessed_Malaria_Data.csv', index=False)"
   ]
  }
 ],
 "metadata": {
  "kernelspec": {
   "display_name": "Python [conda env:base] *",
   "language": "python",
   "name": "conda-base-py"
  },
  "language_info": {
   "codemirror_mode": {
    "name": "ipython",
    "version": 3
   },
   "file_extension": ".py",
   "mimetype": "text/x-python",
   "name": "python",
   "nbconvert_exporter": "python",
   "pygments_lexer": "ipython3",
   "version": "3.12.3"
  }
 },
 "nbformat": 4,
 "nbformat_minor": 5
}
